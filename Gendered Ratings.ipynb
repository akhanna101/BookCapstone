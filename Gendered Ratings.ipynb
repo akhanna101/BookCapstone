#Working with the goodreads dataset

import pandas as pd
import numpy as np
import matplotlib.pyplot as plt
from wordcloud import WordCloud, STOPWORDS
import scipy.stats as stats

df = pd.read_csv('GoodReads_100k_books.csv')

#Be aware of missing values
df.isnull().sum()

## First part: See if there is a difference in ratings based on the gender identity of the protagonist or author.

#Remove Nans from genre column 
df.dropna(subset = ['desc', 'rating'])

#Feature Extraction: Gender identity of the author or protagonist. Search the book summary for "her", "his", or " their " to get info on gender identity of subject  
 
herString = ' her '

herIndices = df['desc'].str.find(herString)
girlBooks = []
for i, x in enumerate(herIndices):
    if x >= 0:
        girlBooks.append(i)

hisString = ' his '
hisIndices = df['desc'].str.find(hisString)
boyBooks = []
for i, x in enumerate(hisIndices):
    if x >= 0:
        boyBooks.append(i)    
        
theirString = ' their '

theirIndices = df['desc'].str.find(theirString)
theirBooks = []
for i, x in enumerate(theirIndices):
    if x >= 0:
        theirBooks.append(i)

#Exclude intersections of these three lists. 

justGirlsBooks = [x for x in girlBooks if x not in boyBooks]
justBoysBooks = [x for x in boyBooks if x not in girlBooks]
justTheirBooks = [x for x in theirBooks if x not in boyBooks]
justTheirBooks = [x for x in justTheirBooks if x not in girlBooks]                  
                  
#Find means, median, and Std for all groups 

rateBoys = np.mean(df['rating'][justBoysBooks])
rateGirls = np.mean(df['rating'][justGirlsBooks])
rateThem = np.mean(df['rating'][justTheirBooks])

medianBoys = np.median(df['rating'][justBoysBooks])
medianGirls = np.median(df['rating'][justGirlsBooks])
medianThem = np.median(df['rating'][justTheirBooks])

sdBoys = np.std(df['rating'][justBoysBooks])
sdGirls = np.std(df['rating'][justGirlsBooks])
sdThem = np.std(df['rating'][justTheirBooks])

#Test for normality 
stats.probplot(df['rating'][justBoysBooks], dist = 'norm', plot = plt)
#DATA IS NOT NORMALLY DISTRIBUTED... SO USE kruskal-wallis test instead

stats.kruskal(df['rating'][justBoysBooks], df['rating'][justGirlsBooks], df['rating'][justTheirBooks])
#There is a statistically significant difference between the medians of these populations, books with female author/protagonists have a lower median but by a miniscule amount (0.04 points)


plt.hist(df['rating'][justBoysBooks], bins = 50, label = 'Books by or about Males', alpha = 0.6)
plt.hist(df['rating'][justGirlsBooks], bins = 50, label = 'Books by or about Females', alpha = 0.6)
plt.hist(df['rating'][justTheirBooks], bins = 50, label = 'Books by or about "Them"', alpha = 0.6)
plt.legend(loc='best')
plt.xlabel('Rating out of 5')
plt.ylabel('Number of Books')
plt.show